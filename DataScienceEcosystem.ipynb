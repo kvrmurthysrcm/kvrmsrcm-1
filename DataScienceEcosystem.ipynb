{
 "cells": [
  {
   "cell_type": "markdown",
   "id": "f9490ae5-16be-4e90-b517-3dceb9c1a555",
   "metadata": {},
   "source": [
    "# Data Science Tools and Ecosystem"
   ]
  },
  {
   "cell_type": "markdown",
   "id": "54bcdc66-b186-45c0-8f1f-f9d4bd7e6271",
   "metadata": {},
   "source": [
    "In this notebook, Data Science Tools and Ecosystem are summarized."
   ]
  },
  {
   "cell_type": "markdown",
   "id": "9ff94281-b165-4f32-b05e-ddaa87ded784",
   "metadata": {
    "tags": []
   },
   "source": [
    "Some of the popular languages that Data Scientists use are:\n",
    "1. Python\n",
    "2. R\n",
    "3. Scala\n",
    "4. Julia\n",
    "5. Sql"
   ]
  },
  {
   "cell_type": "markdown",
   "id": "70ffed2e-cd0e-439a-a0cd-9f41a340bbba",
   "metadata": {},
   "source": [
    "Some of the commonly used libraries used by Data Scientists include:\n",
    "1. numPy\n",
    "2. Pandas\n",
    "3. SciPy"
   ]
  },
  {
   "cell_type": "markdown",
   "id": "86231b95-f0ec-4216-9e6c-7f911ecc9fbc",
   "metadata": {},
   "source": [
    "| Data Science Tools |\n",
    "| :- |\n",
    "| Apache Spark |\n",
    "| Apache Hadoop |\n",
    "| TensorFlow |"
   ]
  },
  {
   "cell_type": "markdown",
   "id": "81bea7ab-a6b3-4c99-ae8b-5260ccdd5d93",
   "metadata": {},
   "source": [
    "### Below are a few examples of evaluating arithmetic expressions in Python"
   ]
  },
  {
   "cell_type": "code",
   "execution_count": 88,
   "id": "f4cfc0de-87ec-4408-9b90-5fa062bb3997",
   "metadata": {
    "tags": []
   },
   "outputs": [
    {
     "data": {
      "text/plain": [
       "17"
      ]
     },
     "execution_count": 88,
     "metadata": {},
     "output_type": "execute_result"
    }
   ],
   "source": [
    "(3*4)+5\n",
    "# This a simple arithmetic expression to mutiply then add integers"
   ]
  },
  {
   "cell_type": "code",
   "execution_count": 89,
   "id": "af4a3d3a-2ce1-4f4a-9fab-ec558ed8d1bd",
   "metadata": {},
   "outputs": [
    {
     "name": "stdout",
     "output_type": "stream",
     "text": [
      "3 hours  20 Minutes  "
     ]
    }
   ],
   "source": [
    "# writing code to convert 200 minutes into hours.\n",
    "# This will convert 200 minutes to hours by diving by 60\n",
    "a = 200\n",
    "# print(a)\n",
    "print ( a//60, end=\" \" )\n",
    "print (\"hours \" , end=\" \")\n",
    "print ( a % 60, end=\" \" )\n",
    "print (\"Minutes \" , end=\" \")"
   ]
  },
  {
   "cell_type": "markdown",
   "id": "9ae61176-3076-4a45-92ee-466978977975",
   "metadata": {},
   "source": [
    "**Objectives:**\n",
    "\n",
    "* Python\n",
    "* R\n",
    "* Scala\n",
    "* Julia\n",
    "* Sql\n"
   ]
  },
  {
   "cell_type": "markdown",
   "id": "5e6ae4a0-fa46-4b47-bde0-20b330470c26",
   "metadata": {},
   "source": [
    "## Author\n",
    "'Venkata Ramana Murthy'"
   ]
  },
  {
   "cell_type": "markdown",
   "id": "471d8871-817f-4a85-adac-d55eade5df62",
   "metadata": {},
   "source": [
    "'Thank you ! '"
   ]
  },
  {
   "cell_type": "code",
   "execution_count": null,
   "id": "07f17a95-bb2c-4a6a-b6f1-b645e8311c67",
   "metadata": {},
   "outputs": [],
   "source": []
  }
 ],
 "metadata": {
  "kernelspec": {
   "display_name": "Python 3 (ipykernel)",
   "language": "python",
   "name": "python3"
  },
  "language_info": {
   "codemirror_mode": {
    "name": "ipython",
    "version": 3
   },
   "file_extension": ".py",
   "mimetype": "text/x-python",
   "name": "python",
   "nbconvert_exporter": "python",
   "pygments_lexer": "ipython3",
   "version": "3.11.7"
  }
 },
 "nbformat": 4,
 "nbformat_minor": 5
}
