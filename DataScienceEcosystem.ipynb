{
 "cells": [
  {
   "cell_type": "code",
   "execution_count": 7,
   "id": "34a03bdf-e384-45dc-a2b3-1a303a5aeff6",
   "metadata": {},
   "outputs": [],
   "source": [
    "# H1 Data Science Tools and Ecosystem"
   ]
  },
  {
   "cell_type": "code",
   "execution_count": 8,
   "id": "1c1dfe22-3f4c-4ab0-a95a-9e20a798457f",
   "metadata": {},
   "outputs": [],
   "source": [
    "# In this notebook, Data Science Tools and Ecosystem are summarized."
   ]
  },
  {
   "cell_type": "code",
   "execution_count": 9,
   "id": "10837359-cecb-4604-bbb6-197798ef5f86",
   "metadata": {},
   "outputs": [],
   "source": [
    "# Some of the popular languages that Data Scientists use are:"
   ]
  },
  {
   "cell_type": "code",
   "execution_count": 12,
   "id": "0e960126-ce2c-40a3-87bc-8081d81d9d44",
   "metadata": {},
   "outputs": [],
   "source": [
    "# * numPy\n",
    "# * Pandas\n",
    "# * SciPy"
   ]
  },
  {
   "cell_type": "code",
   "execution_count": 13,
   "id": "521202f2-78df-41ab-bbce-fa62235ef9b2",
   "metadata": {},
   "outputs": [
    {
     "data": {
      "text/plain": [
       "17"
      ]
     },
     "execution_count": 13,
     "metadata": {},
     "output_type": "execute_result"
    }
   ],
   "source": [
    "(3*4)+5"
   ]
  },
  {
   "cell_type": "code",
   "execution_count": 30,
   "id": "af4a3d3a-2ce1-4f4a-9fab-ec558ed8d1bd",
   "metadata": {},
   "outputs": [
    {
     "name": "stdout",
     "output_type": "stream",
     "text": [
      "200\n",
      "3 hours  20 Minutes  "
     ]
    }
   ],
   "source": [
    "# writing code to convert 200 minutes into hours.\n",
    "a = 200\n",
    "\n",
    "print(a)\n",
    "print ( 200//60, end=\" \" )\n",
    "print (\"hours \" , end=\" \")\n",
    "print ( 200 % 60, end=\" \" )\n",
    "print (\"Minutes \" , end=\" \")"
   ]
  },
  {
   "cell_type": "code",
   "execution_count": null,
   "id": "5badae6e-d4da-4802-b1d4-47ba2e4fe1f5",
   "metadata": {},
   "outputs": [],
   "source": []
  },
  {
   "cell_type": "code",
   "execution_count": null,
   "id": "0b106658-f5f7-48fc-8d6f-e8c14ff7202f",
   "metadata": {},
   "outputs": [],
   "source": []
  },
  {
   "cell_type": "code",
   "execution_count": null,
   "id": "f054e68d-57f7-4149-b960-8f199587f7d4",
   "metadata": {},
   "outputs": [],
   "source": []
  }
 ],
 "metadata": {
  "kernelspec": {
   "display_name": "Python 3 (ipykernel)",
   "language": "python",
   "name": "python3"
  },
  "language_info": {
   "codemirror_mode": {
    "name": "ipython",
    "version": 3
   },
   "file_extension": ".py",
   "mimetype": "text/x-python",
   "name": "python",
   "nbconvert_exporter": "python",
   "pygments_lexer": "ipython3",
   "version": "3.11.7"
  }
 },
 "nbformat": 4,
 "nbformat_minor": 5
}
