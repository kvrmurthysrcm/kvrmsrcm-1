{
 "cells": [
  {
   "cell_type": "code",
   "execution_count": 8,
   "id": "6de27284-37f4-4b40-90f9-379e676241c9",
   "metadata": {},
   "outputs": [
    {
     "data": {
      "text/plain": [
       "6"
      ]
     },
     "execution_count": 8,
     "metadata": {},
     "output_type": "execute_result"
    }
   ],
   "source": [
    "3+3"
   ]
  },
  {
   "cell_type": "markdown",
   "id": "81a94a94-2432-4434-86a8-05606dcb87af",
   "metadata": {},
   "source": [
    "# H1 level 1 heading\n",
    "## H2 level 2 heading\n",
    "### H3 level 3 heading\n",
    "#### H4 level 4 heading\n",
    "##### H5 level 5 heading\n"
   ]
  },
  {
   "cell_type": "code",
   "execution_count": null,
   "id": "afbcd742-d4ef-4375-b14d-3d236cde7e2f",
   "metadata": {},
   "outputs": [],
   "source": []
  }
 ],
 "metadata": {
  "kernelspec": {
   "display_name": "Python 3 (ipykernel)",
   "language": "python",
   "name": "python3"
  },
  "language_info": {
   "codemirror_mode": {
    "name": "ipython",
    "version": 3
   },
   "file_extension": ".py",
   "mimetype": "text/x-python",
   "name": "python",
   "nbconvert_exporter": "python",
   "pygments_lexer": "ipython3",
   "version": "3.12.0"
  }
 },
 "nbformat": 4,
 "nbformat_minor": 5
}
